{
  "nbformat": 4,
  "nbformat_minor": 0,
  "metadata": {
    "colab": {
      "provenance": []
    },
    "kernelspec": {
      "name": "python3",
      "display_name": "Python 3"
    },
    "language_info": {
      "name": "python"
    }
  },
  "cells": [
    {
      "cell_type": "code",
      "execution_count": null,
      "metadata": {
        "id": "uaB5n_VHx3yV"
      },
      "outputs": [],
      "source": [
        "import pandas as pd\n",
        "import numpy as np\n",
        "import matplotlib as plt"
      ]
    },
    {
      "cell_type": "markdown",
      "source": [
        "# Soru 1"
      ],
      "metadata": {
        "id": "x2vmMgIL4VUW"
      }
    },
    {
      "cell_type": "markdown",
      "source": [
        "İlgil data.csv dosyasını sisteme ; ayracı kullanarak yükleyiniz.\n",
        "Ardından veri kümesinde kullanılan virgüller yerine nokta işaretleri ile değiştiriniz."
      ],
      "metadata": {
        "id": "-iv2g0SOzaaF"
      }
    },
    {
      "cell_type": "code",
      "source": [
        "# write your code here\n",
        "\n",
        "data"
      ],
      "metadata": {
        "id": "PsNXy2bzyJvN"
      },
      "execution_count": null,
      "outputs": []
    },
    {
      "cell_type": "code",
      "source": [
        "# write your code here\n",
        "\n",
        "data"
      ],
      "metadata": {
        "id": "3gFawFhpyJxk"
      },
      "execution_count": null,
      "outputs": []
    },
    {
      "cell_type": "markdown",
      "source": [
        "# Soru 2"
      ],
      "metadata": {
        "id": "n_2rIv0j4b1C"
      }
    },
    {
      "cell_type": "markdown",
      "source": [
        "İşsizlik, enflasyon ve veri kümesinin genel veri türlerini ayrı ayrı listelettiriniz. "
      ],
      "metadata": {
        "id": "sdepXu_pykT5"
      }
    },
    {
      "cell_type": "code",
      "source": [
        "# write your code here\n"
      ],
      "metadata": {
        "id": "ccQ8ZzkMyJz1"
      },
      "execution_count": null,
      "outputs": []
    },
    {
      "cell_type": "code",
      "source": [
        "# write your code here\n"
      ],
      "metadata": {
        "id": "agzfQdzJyJ2b"
      },
      "execution_count": null,
      "outputs": []
    },
    {
      "cell_type": "code",
      "source": [
        "# write your code here\n"
      ],
      "metadata": {
        "id": "rpIEbTYOyJ5C"
      },
      "execution_count": null,
      "outputs": []
    },
    {
      "cell_type": "markdown",
      "source": [
        "# Soru 3"
      ],
      "metadata": {
        "id": "Pho_txa04gW3"
      }
    },
    {
      "cell_type": "markdown",
      "source": [
        "Veri setinin ilk beş, son beş ve son üç değerlerini listelettiriniz."
      ],
      "metadata": {
        "id": "LbUwKjy_0zhr"
      }
    },
    {
      "cell_type": "code",
      "source": [
        "# write your code here\n"
      ],
      "metadata": {
        "id": "FL5rH-55yJ7Z"
      },
      "execution_count": null,
      "outputs": []
    },
    {
      "cell_type": "code",
      "source": [
        "# write your code here\n"
      ],
      "metadata": {
        "id": "s352ctQ_yJ9w"
      },
      "execution_count": null,
      "outputs": []
    },
    {
      "cell_type": "code",
      "source": [
        "# write your code here\n"
      ],
      "metadata": {
        "id": "6VhGxyPByr29"
      },
      "execution_count": null,
      "outputs": []
    },
    {
      "cell_type": "markdown",
      "source": [
        "# Soru 4"
      ],
      "metadata": {
        "id": "dVjoSO3E4kdj"
      }
    },
    {
      "cell_type": "markdown",
      "source": [
        "Veri setinin sütun isimlerini ile satır indeksleri hakkında bilgileri listelettiriniz."
      ],
      "metadata": {
        "id": "E7B__IYY09Wf"
      }
    },
    {
      "cell_type": "code",
      "source": [
        "# write your code here\n"
      ],
      "metadata": {
        "id": "C7WGZUEhyr5i"
      },
      "execution_count": null,
      "outputs": []
    },
    {
      "cell_type": "code",
      "source": [
        "# write your code here\n"
      ],
      "metadata": {
        "id": "qjGhF437yr75"
      },
      "execution_count": null,
      "outputs": []
    },
    {
      "cell_type": "markdown",
      "source": [
        "# Soru 5"
      ],
      "metadata": {
        "id": "iayUxvxQ4pi9"
      }
    },
    {
      "cell_type": "markdown",
      "source": [
        "Veri kümesinin boyutlarını gösteren sonucu ve aynı zamanda özet bilgi tablosunu listeleyen gerekli kodları yazınız."
      ],
      "metadata": {
        "id": "98OOfX_p1XMj"
      }
    },
    {
      "cell_type": "code",
      "source": [
        "# write your code here\n"
      ],
      "metadata": {
        "id": "-t5pPeegyr-S"
      },
      "execution_count": null,
      "outputs": []
    },
    {
      "cell_type": "code",
      "source": [
        "# write your code here\n"
      ],
      "metadata": {
        "id": "WUi0GGDjysAr"
      },
      "execution_count": null,
      "outputs": []
    },
    {
      "cell_type": "markdown",
      "source": [
        "# Soru 6"
      ],
      "metadata": {
        "id": "dLRBdjrp4wGr"
      }
    },
    {
      "cell_type": "markdown",
      "source": [
        "Bir önceki soruda görmüş olduğunuz enflasyon ve issizlik sütunlarının veri türlerini object'ten float veri türüne dönüştürünüz. Son olarak dönüşüm tamamlandıktan sonra özet bilgileri yazdırınız."
      ],
      "metadata": {
        "id": "zjtMU12B1pzz"
      }
    },
    {
      "cell_type": "code",
      "source": [
        "# write your code here\n"
      ],
      "metadata": {
        "id": "4OmBf2dJysDY"
      },
      "execution_count": null,
      "outputs": []
    },
    {
      "cell_type": "code",
      "source": [
        "# write your code here\n"
      ],
      "metadata": {
        "id": "wNHzdcjZy4NK"
      },
      "execution_count": null,
      "outputs": []
    },
    {
      "cell_type": "code",
      "source": [
        "# write your code here\n"
      ],
      "metadata": {
        "id": "aYAxDDkUy4Pk"
      },
      "execution_count": null,
      "outputs": []
    },
    {
      "cell_type": "markdown",
      "source": [
        "# Soru 7"
      ],
      "metadata": {
        "id": "pn1nnO954xm9"
      }
    },
    {
      "cell_type": "markdown",
      "source": [
        "Veri kümesinin son iki satırını listeleyiniz. listeleme sonucunda son iki satırdaki boş değerleri veri kümesine ait listeden siliniz.\n",
        "ardından tekrar listenin son beş satırını listelettiriniz."
      ],
      "metadata": {
        "id": "Rg5WvSQj2S3T"
      }
    },
    {
      "cell_type": "code",
      "source": [
        "# write your code here\n"
      ],
      "metadata": {
        "id": "hPv-RkPgy4SB"
      },
      "execution_count": null,
      "outputs": []
    },
    {
      "cell_type": "code",
      "source": [
        "# write your code here\n"
      ],
      "metadata": {
        "id": "o2pDONJhy4UQ"
      },
      "execution_count": null,
      "outputs": []
    },
    {
      "cell_type": "code",
      "source": [
        "# write your code here\n"
      ],
      "metadata": {
        "id": "PDyGBqS3zASk"
      },
      "execution_count": null,
      "outputs": []
    },
    {
      "cell_type": "markdown",
      "source": [
        "# Soru 8"
      ],
      "metadata": {
        "id": "kuodQ_gg41S7"
      }
    },
    {
      "cell_type": "markdown",
      "source": [
        "Boş girilmiş tüm değerleri kalıcı olarak siliniz.\n",
        "Eğer tüm satırları boş girilmiş kayıtlar bulunuyorsa bunları da listeden siliniz ve açıklamasını yapınız."
      ],
      "metadata": {
        "id": "vfcS4NsN2qMj"
      }
    },
    {
      "cell_type": "code",
      "source": [
        "# write your code here\n"
      ],
      "metadata": {
        "id": "nIVQ8wFxzAVD"
      },
      "execution_count": null,
      "outputs": []
    },
    {
      "cell_type": "code",
      "source": [
        "# write your code here\n"
      ],
      "metadata": {
        "id": "bkUd1oQkzAXn"
      },
      "execution_count": null,
      "outputs": []
    },
    {
      "cell_type": "markdown",
      "source": [
        "# Soru 9"
      ],
      "metadata": {
        "id": "xTtuhLNu44iP"
      }
    },
    {
      "cell_type": "markdown",
      "source": [
        "Sadece issizlik sütunundaki boş değerleri siliniz (bunun için iki yöntem bulunmaktadır lütfen her ikisinide ayrı ayrı yazınız)."
      ],
      "metadata": {
        "id": "5QEt1Ws43Y1v"
      }
    },
    {
      "cell_type": "code",
      "source": [
        "# write your code here\n"
      ],
      "metadata": {
        "id": "c5m4EuMAzAaI"
      },
      "execution_count": null,
      "outputs": []
    },
    {
      "cell_type": "code",
      "source": [
        "# write your code here\n"
      ],
      "metadata": {
        "id": "Os21wMCwzAcb"
      },
      "execution_count": null,
      "outputs": []
    },
    {
      "cell_type": "markdown",
      "source": [
        "# Soru 10"
      ],
      "metadata": {
        "id": "F3svGdWI48XX"
      }
    },
    {
      "cell_type": "markdown",
      "source": [
        "Belirtilen sütundaki boş değerleri vermiş olduğumuz herhangi bir değerle duldurunuz ve bunu kalıcı hale getiriniz. "
      ],
      "metadata": {
        "id": "0Ak322Qb3zPQ"
      }
    },
    {
      "cell_type": "code",
      "source": [
        "# write your code here\n"
      ],
      "metadata": {
        "id": "Bm6RxScWzAev"
      },
      "execution_count": null,
      "outputs": []
    },
    {
      "cell_type": "code",
      "source": [
        "# write your code here\n"
      ],
      "metadata": {
        "id": "K38K_M0IzAhP"
      },
      "execution_count": null,
      "outputs": []
    }
  ]
}